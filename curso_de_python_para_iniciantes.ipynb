{
  "nbformat": 4,
  "nbformat_minor": 0,
  "metadata": {
    "colab": {
      "provenance": [],
      "authorship_tag": "ABX9TyMnDEAi6MkeW/ww5j+LRw/0",
      "include_colab_link": true
    },
    "kernelspec": {
      "name": "python3",
      "display_name": "Python 3"
    },
    "language_info": {
      "name": "python"
    }
  },
  "cells": [
    {
      "cell_type": "markdown",
      "metadata": {
        "id": "view-in-github",
        "colab_type": "text"
      },
      "source": [
        "<a href=\"https://colab.research.google.com/github/PericlesBritto/Google-colab_python/blob/main/curso_de_python_para_iniciantes.ipynb\" target=\"_parent\"><img src=\"https://colab.research.google.com/assets/colab-badge.svg\" alt=\"Open In Colab\"/></a>"
      ]
    },
    {
      "cell_type": "markdown",
      "source": [
        "### Olá Mundo"
      ],
      "metadata": {
        "id": "cQkgVll_TbQt"
      }
    },
    {
      "cell_type": "markdown",
      "source": [
        "Nosso primeiro comando em Python"
      ],
      "metadata": {
        "id": "mhmTBSYvTg9O"
      }
    },
    {
      "cell_type": "code",
      "source": [
        "print(\"Olá Mundo\")"
      ],
      "metadata": {
        "colab": {
          "base_uri": "https://localhost:8080/"
        },
        "id": "yQL1ZMTGTeoz",
        "outputId": "a2273204-fbc2-4454-9b08-2505f46e592d"
      },
      "execution_count": null,
      "outputs": [
        {
          "output_type": "stream",
          "name": "stdout",
          "text": [
            "Olá Mundo\n"
          ]
        }
      ]
    },
    {
      "cell_type": "markdown",
      "source": [
        "### String"
      ],
      "metadata": {
        "id": "iMKN4tgVT5r5"
      }
    },
    {
      "cell_type": "markdown",
      "source": [
        "Concactenação com operador +"
      ],
      "metadata": {
        "id": "ckhnd5utT_6Y"
      }
    },
    {
      "cell_type": "code",
      "source": [
        "print(\"Curso\" + \" de Python\")\n"
      ],
      "metadata": {
        "colab": {
          "base_uri": "https://localhost:8080/"
        },
        "id": "mOPSsvEfUJxB",
        "outputId": "2d2bbc55-f959-4293-e211-4f5f9f596fde"
      },
      "execution_count": null,
      "outputs": [
        {
          "output_type": "stream",
          "name": "stdout",
          "text": [
            "Curso de Python\n"
          ]
        }
      ]
    },
    {
      "cell_type": "markdown",
      "source": [
        "Substituindo valores com format()"
      ],
      "metadata": {
        "id": "CWWUtgQZVT5X"
      }
    },
    {
      "cell_type": "code",
      "source": [
        "print(\"Aula {} do Curso de {}\".format(1, \"Python\"))"
      ],
      "metadata": {
        "colab": {
          "base_uri": "https://localhost:8080/"
        },
        "id": "9q19EHCpVlyS",
        "outputId": "fa7196e0-d60e-49b9-f4ef-f370b8361f49"
      },
      "execution_count": null,
      "outputs": [
        {
          "output_type": "stream",
          "name": "stdout",
          "text": [
            "Aula 1 do Curso de Python\n"
          ]
        }
      ]
    },
    {
      "cell_type": "markdown",
      "source": [
        "Transformando para minúsculas com o comando lower()"
      ],
      "metadata": {
        "id": "IAk8n6FsWwdq"
      }
    },
    {
      "cell_type": "code",
      "source": [
        "print(\"Curso de Python para Iniciantes\".lower())"
      ],
      "metadata": {
        "colab": {
          "base_uri": "https://localhost:8080/"
        },
        "id": "L2_Z3mRoW_Fx",
        "outputId": "d16bee71-4d32-4c0b-b767-d0134fccf8f6"
      },
      "execution_count": null,
      "outputs": [
        {
          "output_type": "stream",
          "name": "stdout",
          "text": [
            "curso de python para iniciantes\n"
          ]
        }
      ]
    },
    {
      "cell_type": "code",
      "source": [
        "print(\"Curso de Python para Iniciantes\".upper())"
      ],
      "metadata": {
        "colab": {
          "base_uri": "https://localhost:8080/"
        },
        "outputId": "69abec5c-cb03-4cd3-d2e1-4c2cf81ab5a1",
        "id": "cuHkwP3JXcHY"
      },
      "execution_count": null,
      "outputs": [
        {
          "output_type": "stream",
          "name": "stdout",
          "text": [
            "CURSO DE PYTHON PARA INICIANTES\n"
          ]
        }
      ]
    },
    {
      "cell_type": "markdown",
      "source": [
        "Removendo espaços em branco no começo e e no fim do texto com o comando strip()"
      ],
      "metadata": {
        "id": "50UnCfQXXpsH"
      }
    },
    {
      "cell_type": "code",
      "source": [
        "print(\"    Curso de Python para Iniciantes   \".strip())"
      ],
      "metadata": {
        "colab": {
          "base_uri": "https://localhost:8080/"
        },
        "id": "2Z3v4mcuXuu-",
        "outputId": "aa8fb8ea-351f-4e3a-c52b-00180586c919"
      },
      "execution_count": null,
      "outputs": [
        {
          "output_type": "stream",
          "name": "stdout",
          "text": [
            "Curso de Python para Iniciantes\n"
          ]
        }
      ]
    },
    {
      "cell_type": "markdown",
      "source": [
        "O comando type exibe o tipo da variável"
      ],
      "metadata": {
        "id": "DhXoNnwNYgRL"
      }
    },
    {
      "cell_type": "code",
      "source": [
        "type(\"Curso de Python para Iniciantes\")"
      ],
      "metadata": {
        "colab": {
          "base_uri": "https://localhost:8080/"
        },
        "id": "4_bTXjZgYltk",
        "outputId": "4a7689c6-ce36-41d4-ec8e-521048d78054"
      },
      "execution_count": null,
      "outputs": [
        {
          "output_type": "execute_result",
          "data": {
            "text/plain": [
              "str"
            ]
          },
          "metadata": {},
          "execution_count": 20
        }
      ]
    },
    {
      "cell_type": "markdown",
      "source": [
        "Lidando com números e Operadores Matemáticos"
      ],
      "metadata": {
        "id": "v1BKrhKLZFEw"
      }
    },
    {
      "cell_type": "markdown",
      "source": [
        "> Soma"
      ],
      "metadata": {
        "id": "YplSMhi5a33g"
      }
    },
    {
      "cell_type": "code",
      "source": [
        "2 + 2"
      ],
      "metadata": {
        "colab": {
          "base_uri": "https://localhost:8080/"
        },
        "id": "qJvGc2ADZMhM",
        "outputId": "274fec61-1daa-47ec-9297-d33b1f52e971"
      },
      "execution_count": null,
      "outputs": [
        {
          "output_type": "execute_result",
          "data": {
            "text/plain": [
              "4"
            ]
          },
          "metadata": {},
          "execution_count": 21
        }
      ]
    },
    {
      "cell_type": "markdown",
      "source": [
        "> Subtração"
      ],
      "metadata": {
        "id": "jB11__4ca9ak"
      }
    },
    {
      "cell_type": "code",
      "source": [
        "4-2"
      ],
      "metadata": {
        "colab": {
          "base_uri": "https://localhost:8080/"
        },
        "id": "BY34IU-1bZnz",
        "outputId": "ed58da61-fce8-4b6e-d818-e1f1569a3fb4"
      },
      "execution_count": null,
      "outputs": [
        {
          "output_type": "execute_result",
          "data": {
            "text/plain": [
              "2"
            ]
          },
          "metadata": {},
          "execution_count": 23
        }
      ]
    },
    {
      "cell_type": "markdown",
      "source": [
        "> Multiplicação"
      ],
      "metadata": {
        "id": "rfNXxUJRbqh3"
      }
    },
    {
      "cell_type": "code",
      "source": [
        "2 * 2"
      ],
      "metadata": {
        "colab": {
          "base_uri": "https://localhost:8080/"
        },
        "id": "byII9-YBbtIF",
        "outputId": "61706a76-37db-44e6-a599-0d81f583b502"
      },
      "execution_count": null,
      "outputs": [
        {
          "output_type": "execute_result",
          "data": {
            "text/plain": [
              "4"
            ]
          },
          "metadata": {},
          "execution_count": 24
        }
      ]
    },
    {
      "cell_type": "markdown",
      "source": [
        "> Divisão"
      ],
      "metadata": {
        "id": "vQKoU_VQbxXT"
      }
    },
    {
      "cell_type": "code",
      "source": [
        "2/5"
      ],
      "metadata": {
        "colab": {
          "base_uri": "https://localhost:8080/"
        },
        "id": "rP1eSUambvrc",
        "outputId": "a78c80ea-1be6-4e51-a214-2daa66521844"
      },
      "execution_count": null,
      "outputs": [
        {
          "output_type": "execute_result",
          "data": {
            "text/plain": [
              "0.4"
            ]
          },
          "metadata": {},
          "execution_count": 28
        }
      ]
    },
    {
      "cell_type": "markdown",
      "source": [
        ">> Divisão inteira"
      ],
      "metadata": {
        "id": "sZ3WWdk1dVRL"
      }
    },
    {
      "cell_type": "code",
      "source": [
        "7 // 2"
      ],
      "metadata": {
        "colab": {
          "base_uri": "https://localhost:8080/"
        },
        "id": "ZuduPrIddSxQ",
        "outputId": "bc680831-d0ae-4102-a3e9-cb1c85ab9da6"
      },
      "execution_count": null,
      "outputs": [
        {
          "output_type": "execute_result",
          "data": {
            "text/plain": [
              "3"
            ]
          },
          "metadata": {},
          "execution_count": 31
        }
      ]
    },
    {
      "cell_type": "markdown",
      "source": [
        ">> Resto da divisão"
      ],
      "metadata": {
        "id": "StYKFsxfd3eC"
      }
    },
    {
      "cell_type": "code",
      "source": [
        "7%3"
      ],
      "metadata": {
        "colab": {
          "base_uri": "https://localhost:8080/"
        },
        "id": "w-uX60Pmd8cB",
        "outputId": "2f753a49-0434-4efe-c991-1d8092c35762"
      },
      "execution_count": null,
      "outputs": [
        {
          "output_type": "execute_result",
          "data": {
            "text/plain": [
              "1"
            ]
          },
          "metadata": {},
          "execution_count": 32
        }
      ]
    },
    {
      "cell_type": "code",
      "source": [
        "type(5/2)"
      ],
      "metadata": {
        "colab": {
          "base_uri": "https://localhost:8080/"
        },
        "id": "lfbXWFjac-V0",
        "outputId": "670d44bd-a78c-490e-ad23-7d5e0829cd7c"
      },
      "execution_count": null,
      "outputs": [
        {
          "output_type": "execute_result",
          "data": {
            "text/plain": [
              "float"
            ]
          },
          "metadata": {},
          "execution_count": 29
        }
      ]
    },
    {
      "cell_type": "markdown",
      "source": [
        "> Exponenciação"
      ],
      "metadata": {
        "id": "N8dZbGg2cLKF"
      }
    },
    {
      "cell_type": "code",
      "source": [
        "7 ** 2"
      ],
      "metadata": {
        "colab": {
          "base_uri": "https://localhost:8080/"
        },
        "id": "XWWDps5jcJcL",
        "outputId": "16abb9a2-db53-4e5c-e709-257a915e5078"
      },
      "execution_count": null,
      "outputs": [
        {
          "output_type": "execute_result",
          "data": {
            "text/plain": [
              "49"
            ]
          },
          "metadata": {},
          "execution_count": 27
        }
      ]
    },
    {
      "cell_type": "code",
      "source": [
        "type(7 ** 2)"
      ],
      "metadata": {
        "colab": {
          "base_uri": "https://localhost:8080/"
        },
        "id": "d292uT5NdGdQ",
        "outputId": "551a4fb2-8360-40f4-c946-c20604e5ee23"
      },
      "execution_count": null,
      "outputs": [
        {
          "output_type": "execute_result",
          "data": {
            "text/plain": [
              "int"
            ]
          },
          "metadata": {},
          "execution_count": 30
        }
      ]
    },
    {
      "cell_type": "markdown",
      "source": [
        "> Expressão"
      ],
      "metadata": {
        "id": "l8efjY4mchHw"
      }
    },
    {
      "cell_type": "code",
      "source": [
        "3 * 2 + 4 / 5 ** 2"
      ],
      "metadata": {
        "colab": {
          "base_uri": "https://localhost:8080/"
        },
        "id": "nZP0a-p0caec",
        "outputId": "a069bf4c-4975-4fa1-b166-6f0c22e3b677"
      },
      "execution_count": null,
      "outputs": [
        {
          "output_type": "execute_result",
          "data": {
            "text/plain": [
              "6.16"
            ]
          },
          "metadata": {},
          "execution_count": 33
        }
      ]
    },
    {
      "cell_type": "code",
      "source": [
        "(3 * 2) + (4 / 5) ** 2"
      ],
      "metadata": {
        "colab": {
          "base_uri": "https://localhost:8080/"
        },
        "outputId": "bd8e261a-994a-44ef-801d-5dda7dcafeb3",
        "id": "5FhcoCcFec56"
      },
      "execution_count": null,
      "outputs": [
        {
          "output_type": "execute_result",
          "data": {
            "text/plain": [
              "6.640000000000001"
            ]
          },
          "metadata": {},
          "execution_count": 34
        }
      ]
    },
    {
      "cell_type": "code",
      "source": [
        "((3 * 2) + (4 / 5)) ** 2"
      ],
      "metadata": {
        "colab": {
          "base_uri": "https://localhost:8080/"
        },
        "outputId": "632c28db-2f52-4434-ba1a-622240634afd",
        "id": "9AktrQiaeiGN"
      },
      "execution_count": null,
      "outputs": [
        {
          "output_type": "execute_result",
          "data": {
            "text/plain": [
              "46.239999999999995"
            ]
          },
          "metadata": {},
          "execution_count": 35
        }
      ]
    },
    {
      "cell_type": "markdown",
      "source": [
        "# Curso de Python para iniciante - Aula 02"
      ],
      "metadata": {
        "id": "Lac_h__dW9DD"
      }
    },
    {
      "cell_type": "markdown",
      "source": [
        "###Variáveis númerica"
      ],
      "metadata": {
        "id": "r3CYVJgxXHKD"
      }
    },
    {
      "cell_type": "code",
      "source": [
        "soma = 0\n",
        "soma"
      ],
      "metadata": {
        "colab": {
          "base_uri": "https://localhost:8080/"
        },
        "id": "YEcrUKcXW4yv",
        "outputId": "2f05f477-2295-45a2-fe93-9a35400cb27a"
      },
      "execution_count": 8,
      "outputs": [
        {
          "output_type": "execute_result",
          "data": {
            "text/plain": [
              "0"
            ]
          },
          "metadata": {},
          "execution_count": 8
        }
      ]
    },
    {
      "cell_type": "markdown",
      "source": [
        ">> Incrementando e Decrementando"
      ],
      "metadata": {
        "id": "CE21Mhnfvo1T"
      }
    },
    {
      "cell_type": "code",
      "source": [
        "soma = soma + 1\n",
        "soma"
      ],
      "metadata": {
        "colab": {
          "base_uri": "https://localhost:8080/"
        },
        "id": "XfaDTDedISiW",
        "outputId": "4c6d36fe-f44c-4bb4-fe82-017400cbfd7b"
      },
      "execution_count": 37,
      "outputs": [
        {
          "output_type": "execute_result",
          "data": {
            "text/plain": [
              "0"
            ]
          },
          "metadata": {},
          "execution_count": 37
        }
      ]
    },
    {
      "cell_type": "code",
      "source": [
        "soma += 1\n",
        "soma"
      ],
      "metadata": {
        "colab": {
          "base_uri": "https://localhost:8080/"
        },
        "id": "X0l5O1snwHSo",
        "outputId": "6af638a7-0d93-4f4c-eab8-c6945578fed3"
      },
      "execution_count": 44,
      "outputs": [
        {
          "output_type": "execute_result",
          "data": {
            "text/plain": [
              "1"
            ]
          },
          "metadata": {},
          "execution_count": 44
        }
      ]
    },
    {
      "cell_type": "code",
      "source": [
        "soma -= 1\n",
        "soma"
      ],
      "metadata": {
        "colab": {
          "base_uri": "https://localhost:8080/"
        },
        "id": "3mwuXTVBwHKe",
        "outputId": "db08b6de-0187-45fe-8b0c-17df9e31fd6a"
      },
      "execution_count": 45,
      "outputs": [
        {
          "output_type": "execute_result",
          "data": {
            "text/plain": [
              "0"
            ]
          },
          "metadata": {},
          "execution_count": 45
        }
      ]
    },
    {
      "cell_type": "markdown",
      "source": [
        "### Listas"
      ],
      "metadata": {
        "id": "1joGhIgGxUIx"
      }
    },
    {
      "cell_type": "markdown",
      "source": [
        "> Criando e selecionando elementos de uma lista"
      ],
      "metadata": {
        "id": "lbuWROT1xhnN"
      }
    },
    {
      "cell_type": "code",
      "source": [
        "frutas = ['maça', 'banana', 'laranja']\n",
        "frutas"
      ],
      "metadata": {
        "colab": {
          "base_uri": "https://localhost:8080/"
        },
        "id": "Ov1PC25DwK6n",
        "outputId": "7e8d7c16-860d-401f-a331-a035d3ac69df"
      },
      "execution_count": 48,
      "outputs": [
        {
          "output_type": "execute_result",
          "data": {
            "text/plain": [
              "['maça', 'banana', 'laranja']"
            ]
          },
          "metadata": {},
          "execution_count": 48
        }
      ]
    },
    {
      "cell_type": "code",
      "source": [
        "print(frutas)"
      ],
      "metadata": {
        "colab": {
          "base_uri": "https://localhost:8080/"
        },
        "id": "ClnubXzPyVNv",
        "outputId": "3e1d9eaf-0ca0-4462-b824-b0a73d7a4da1"
      },
      "execution_count": 49,
      "outputs": [
        {
          "output_type": "stream",
          "name": "stdout",
          "text": [
            "['maça', 'banana', 'laranja']\n"
          ]
        }
      ]
    },
    {
      "cell_type": "code",
      "source": [
        "print(frutas[0])"
      ],
      "metadata": {
        "colab": {
          "base_uri": "https://localhost:8080/"
        },
        "id": "a1O3Sq67ydBd",
        "outputId": "43598d1b-b51c-4e3b-f36b-a97d556e17dc"
      },
      "execution_count": 50,
      "outputs": [
        {
          "output_type": "stream",
          "name": "stdout",
          "text": [
            "maça\n"
          ]
        }
      ]
    },
    {
      "cell_type": "code",
      "source": [
        "print(frutas[1])"
      ],
      "metadata": {
        "colab": {
          "base_uri": "https://localhost:8080/"
        },
        "id": "4S2H2r-uyn20",
        "outputId": "447af65d-7d0a-47e9-c1a2-083a2c7d7de1"
      },
      "execution_count": 51,
      "outputs": [
        {
          "output_type": "stream",
          "name": "stdout",
          "text": [
            "banana\n"
          ]
        }
      ]
    },
    {
      "cell_type": "code",
      "source": [
        "print(frutas[2])"
      ],
      "metadata": {
        "colab": {
          "base_uri": "https://localhost:8080/"
        },
        "id": "nj5R8Tv_yq5K",
        "outputId": "0ea8c2d8-9da0-4b04-d9ae-9f7345a30012"
      },
      "execution_count": 52,
      "outputs": [
        {
          "output_type": "stream",
          "name": "stdout",
          "text": [
            "laranja\n"
          ]
        }
      ]
    },
    {
      "cell_type": "code",
      "source": [
        "t1 = (frutas[2])"
      ],
      "metadata": {
        "id": "QQ_6uIUDyz5-"
      },
      "execution_count": 58,
      "outputs": []
    },
    {
      "cell_type": "code",
      "source": [
        "t1\n",
        "print(t1)"
      ],
      "metadata": {
        "colab": {
          "base_uri": "https://localhost:8080/"
        },
        "id": "sfz_wf66y59P",
        "outputId": "47bf7f6a-f43f-4641-c459-f93a1385af4e"
      },
      "execution_count": 59,
      "outputs": [
        {
          "output_type": "stream",
          "name": "stdout",
          "text": [
            "laranja\n"
          ]
        }
      ]
    },
    {
      "cell_type": "code",
      "source": [
        "numeros = [1, 2, 3, 4, 5]\n",
        "numeros"
      ],
      "metadata": {
        "colab": {
          "base_uri": "https://localhost:8080/"
        },
        "id": "O4fMt7jxzJUz",
        "outputId": "ca2cff8f-f28e-4f69-d854-5f9370ca541f"
      },
      "execution_count": 61,
      "outputs": [
        {
          "output_type": "execute_result",
          "data": {
            "text/plain": [
              "[1, 2, 3, 4, 5]"
            ]
          },
          "metadata": {},
          "execution_count": 61
        }
      ]
    },
    {
      "cell_type": "code",
      "source": [
        "mista = ['a', 'b', 'c', [1, 2, 3], ['maça', 'banana', 'laranja']]\n",
        "mista"
      ],
      "metadata": {
        "colab": {
          "base_uri": "https://localhost:8080/"
        },
        "id": "83GVt06VzaaH",
        "outputId": "91c09522-f88f-4012-aeb2-525683b80173"
      },
      "execution_count": 70,
      "outputs": [
        {
          "output_type": "execute_result",
          "data": {
            "text/plain": [
              "['a', 'b', 'c', [1, 2, 3], ['maça', 'banana', 'laranja']]"
            ]
          },
          "metadata": {},
          "execution_count": 70
        }
      ]
    },
    {
      "cell_type": "code",
      "source": [
        "mista[3]"
      ],
      "metadata": {
        "colab": {
          "base_uri": "https://localhost:8080/"
        },
        "id": "aYMUM4Emz3Bm",
        "outputId": "6e4e0c9d-0b0a-438b-9c69-48080076cf29"
      },
      "execution_count": 73,
      "outputs": [
        {
          "output_type": "execute_result",
          "data": {
            "text/plain": [
              "[1, 2, 3]"
            ]
          },
          "metadata": {},
          "execution_count": 73
        }
      ]
    },
    {
      "cell_type": "code",
      "source": [
        "mista[4][0]"
      ],
      "metadata": {
        "colab": {
          "base_uri": "https://localhost:8080/",
          "height": 35
        },
        "id": "3jI7-zQG0eqA",
        "outputId": "385ac04d-993c-4777-980b-f41e3cfe6db1"
      },
      "execution_count": 76,
      "outputs": [
        {
          "output_type": "execute_result",
          "data": {
            "text/plain": [
              "'maça'"
            ],
            "application/vnd.google.colaboratory.intrinsic+json": {
              "type": "string"
            }
          },
          "metadata": {},
          "execution_count": 76
        }
      ]
    },
    {
      "cell_type": "code",
      "source": [
        "mista[4][:1]"
      ],
      "metadata": {
        "colab": {
          "base_uri": "https://localhost:8080/"
        },
        "id": "4tqUUkAYOhx3",
        "outputId": "654e7de2-beda-460d-990f-7ac2070829a0"
      },
      "execution_count": 82,
      "outputs": [
        {
          "output_type": "execute_result",
          "data": {
            "text/plain": [
              "['maça']"
            ]
          },
          "metadata": {},
          "execution_count": 82
        }
      ]
    },
    {
      "cell_type": "code",
      "source": [
        "mista[2:]"
      ],
      "metadata": {
        "colab": {
          "base_uri": "https://localhost:8080/"
        },
        "id": "XsBW1iQyPAAs",
        "outputId": "5034359e-c6e6-4260-d0d8-f108707c04aa"
      },
      "execution_count": 92,
      "outputs": [
        {
          "output_type": "execute_result",
          "data": {
            "text/plain": [
              "['c', [1, 2, 3], ['maça', 'banana', 'laranja']]"
            ]
          },
          "metadata": {},
          "execution_count": 92
        }
      ]
    },
    {
      "cell_type": "code",
      "source": [
        "mista[3][3-1]"
      ],
      "metadata": {
        "colab": {
          "base_uri": "https://localhost:8080/"
        },
        "id": "C4uH0To6Psz0",
        "outputId": "710d4c84-4945-4d62-fcb5-bb1c279b4d58"
      },
      "execution_count": 98,
      "outputs": [
        {
          "output_type": "execute_result",
          "data": {
            "text/plain": [
              "3"
            ]
          },
          "metadata": {},
          "execution_count": 98
        }
      ]
    },
    {
      "cell_type": "code",
      "source": [
        "mista.append('goiaba')\n",
        "mista"
      ],
      "metadata": {
        "colab": {
          "base_uri": "https://localhost:8080/"
        },
        "id": "Z1pBVnn6QEyc",
        "outputId": "3aea6ce4-ecc8-41e4-bed7-43b2d3c9b8bf"
      },
      "execution_count": 108,
      "outputs": [
        {
          "output_type": "execute_result",
          "data": {
            "text/plain": [
              "['a', 'b', 'c', [1, 2, 3], ['maça', 'banana', 'laranja'], 'goiaba']"
            ]
          },
          "metadata": {},
          "execution_count": 108
        }
      ]
    },
    {
      "cell_type": "code",
      "source": [
        "mista"
      ],
      "metadata": {
        "colab": {
          "base_uri": "https://localhost:8080/"
        },
        "id": "zwWrWtj_SDy6",
        "outputId": "72448e0c-2aed-4075-b2d4-981ef16b2615"
      },
      "execution_count": 107,
      "outputs": [
        {
          "output_type": "execute_result",
          "data": {
            "text/plain": [
              "['a', 'b', 'c', [1, 2, 3], ['maça', 'banana', 'laranja']]"
            ]
          },
          "metadata": {},
          "execution_count": 107
        }
      ]
    },
    {
      "cell_type": "code",
      "source": [
        "lista = mista = ['a', 'b', 'c']\n",
        "lista"
      ],
      "metadata": {
        "colab": {
          "base_uri": "https://localhost:8080/"
        },
        "id": "y9xSHE-5SQDn",
        "outputId": "c02bbedc-d0a8-4c52-ac8c-fe094178f9af"
      },
      "execution_count": 110,
      "outputs": [
        {
          "output_type": "execute_result",
          "data": {
            "text/plain": [
              "['a', 'b', 'c']"
            ]
          },
          "metadata": {},
          "execution_count": 110
        }
      ]
    },
    {
      "cell_type": "code",
      "source": [
        "fruta = ['banana', 'laranja', 'maçã']\n",
        "fruta"
      ],
      "metadata": {
        "colab": {
          "base_uri": "https://localhost:8080/"
        },
        "id": "u34W3CuFSy_I",
        "outputId": "c1a8c204-a492-4326-f3e7-60b45fcd7439"
      },
      "execution_count": 112,
      "outputs": [
        {
          "output_type": "execute_result",
          "data": {
            "text/plain": [
              "['banana', 'laranja', 'maçã']"
            ]
          },
          "metadata": {},
          "execution_count": 112
        }
      ]
    },
    {
      "cell_type": "code",
      "source": [
        "numero = [1, 2, 3, 4, 5]\n",
        "numero"
      ],
      "metadata": {
        "colab": {
          "base_uri": "https://localhost:8080/"
        },
        "id": "TfcUQ-vZTInV",
        "outputId": "6e5d82c9-0cc8-4839-a8fc-79c3009fb704"
      },
      "execution_count": 113,
      "outputs": [
        {
          "output_type": "execute_result",
          "data": {
            "text/plain": [
              "[1, 2, 3, 4, 5]"
            ]
          },
          "metadata": {},
          "execution_count": 113
        }
      ]
    },
    {
      "cell_type": "code",
      "source": [
        "lista.append(fruta)"
      ],
      "metadata": {
        "id": "eiLxQe-0TWFZ"
      },
      "execution_count": 114,
      "outputs": []
    },
    {
      "cell_type": "code",
      "source": [
        "lista.append(numero)"
      ],
      "metadata": {
        "id": "-EOt4q7tTgYL"
      },
      "execution_count": 115,
      "outputs": []
    },
    {
      "cell_type": "code",
      "source": [
        "print(lista)"
      ],
      "metadata": {
        "colab": {
          "base_uri": "https://localhost:8080/"
        },
        "id": "z5mvUmP2Tm_u",
        "outputId": "2554c043-9234-4fee-95a3-ab78192f7529"
      },
      "execution_count": 116,
      "outputs": [
        {
          "output_type": "stream",
          "name": "stdout",
          "text": [
            "['a', 'b', 'c', ['banana', 'laranja', 'maçã'], [1, 2, 3, 4, 5]]\n"
          ]
        }
      ]
    },
    {
      "cell_type": "code",
      "source": [
        "fruta.append('goiaba')"
      ],
      "metadata": {
        "id": "fApdqwpBTs2a"
      },
      "execution_count": 117,
      "outputs": []
    },
    {
      "cell_type": "code",
      "source": [
        "print(lista)"
      ],
      "metadata": {
        "colab": {
          "base_uri": "https://localhost:8080/"
        },
        "id": "RIq4NiJaT0dc",
        "outputId": "02d52e3a-ca3e-4cf1-dc31-e3cc14354b04"
      },
      "execution_count": 118,
      "outputs": [
        {
          "output_type": "stream",
          "name": "stdout",
          "text": [
            "['a', 'b', 'c', ['banana', 'laranja', 'maçã', 'goiaba'], [1, 2, 3, 4, 5]]\n"
          ]
        }
      ]
    },
    {
      "cell_type": "code",
      "source": [
        "print(lista[4][:3])"
      ],
      "metadata": {
        "colab": {
          "base_uri": "https://localhost:8080/"
        },
        "id": "qZ5rEULwT_rQ",
        "outputId": "3b840c9b-95d6-4b78-e687-e310b088bf34"
      },
      "execution_count": 126,
      "outputs": [
        {
          "output_type": "stream",
          "name": "stdout",
          "text": [
            "[1, 2, 3]\n"
          ]
        }
      ]
    },
    {
      "cell_type": "markdown",
      "source": [
        "> Apagar um elemento de uma lista"
      ],
      "metadata": {
        "id": "CyEjHWGwVYA6"
      }
    },
    {
      "cell_type": "code",
      "source": [
        "print(fruta)"
      ],
      "metadata": {
        "colab": {
          "base_uri": "https://localhost:8080/"
        },
        "id": "0yT30IE2VXR3",
        "outputId": "d15d7f48-34b5-49d5-9dd9-0bef8646516b"
      },
      "execution_count": 129,
      "outputs": [
        {
          "output_type": "stream",
          "name": "stdout",
          "text": [
            "['banana', 'laranja', 'maçã', 'goiaba']\n"
          ]
        }
      ]
    },
    {
      "cell_type": "code",
      "source": [
        "fruta.pop(3)"
      ],
      "metadata": {
        "colab": {
          "base_uri": "https://localhost:8080/",
          "height": 35
        },
        "id": "_QyCMnTyWJQt",
        "outputId": "1059e655-14da-4d76-96eb-9eda133b6adc"
      },
      "execution_count": 134,
      "outputs": [
        {
          "output_type": "execute_result",
          "data": {
            "text/plain": [
              "'goiaba'"
            ],
            "application/vnd.google.colaboratory.intrinsic+json": {
              "type": "string"
            }
          },
          "metadata": {},
          "execution_count": 134
        }
      ]
    },
    {
      "cell_type": "code",
      "source": [
        "fruta"
      ],
      "metadata": {
        "colab": {
          "base_uri": "https://localhost:8080/"
        },
        "id": "MVQO4DwTWcQ4",
        "outputId": "0772b319-e9c6-4212-8f2c-8383adacc8bb"
      },
      "execution_count": 135,
      "outputs": [
        {
          "output_type": "execute_result",
          "data": {
            "text/plain": [
              "['banana', 'laranja', 'maçã']"
            ]
          },
          "metadata": {},
          "execution_count": 135
        }
      ]
    },
    {
      "cell_type": "markdown",
      "source": [
        "> Duas formas de duplicando um lista ou parte dela"
      ],
      "metadata": {
        "id": "4GP8D93XXmHC"
      }
    },
    {
      "cell_type": "code",
      "source": [
        "frutas = fruta\n",
        "frutas = fruta[0:]\n"
      ],
      "metadata": {
        "id": "7nkNUw5uWnGy"
      },
      "execution_count": 143,
      "outputs": []
    },
    {
      "cell_type": "code",
      "source": [
        "frutas"
      ],
      "metadata": {
        "colab": {
          "base_uri": "https://localhost:8080/"
        },
        "id": "p55fS4XfXHRL",
        "outputId": "b1b923e5-4ca6-4ea6-86ba-1cbcd26c0eee"
      },
      "execution_count": 144,
      "outputs": [
        {
          "output_type": "execute_result",
          "data": {
            "text/plain": [
              "['banana', 'laranja', 'maçã']"
            ]
          },
          "metadata": {},
          "execution_count": 144
        }
      ]
    },
    {
      "cell_type": "markdown",
      "source": [
        "Alterando os valores de uma lista"
      ],
      "metadata": {
        "id": "nZcnLD1oX75n"
      }
    },
    {
      "cell_type": "code",
      "source": [
        "frutas[0:] = 'pera', 'morango', 'uva'"
      ],
      "metadata": {
        "id": "5lMYxgSQX6r5"
      },
      "execution_count": 145,
      "outputs": []
    },
    {
      "cell_type": "code",
      "source": [
        "print(frutas)"
      ],
      "metadata": {
        "colab": {
          "base_uri": "https://localhost:8080/"
        },
        "id": "DLQZOa8xYL-u",
        "outputId": "ea4de80d-90fa-4936-8f72-ebbcb55b15ea"
      },
      "execution_count": 146,
      "outputs": [
        {
          "output_type": "stream",
          "name": "stdout",
          "text": [
            "['pera', 'morango', 'uva']\n"
          ]
        }
      ]
    },
    {
      "cell_type": "code",
      "source": [
        "lista.append(frutas)"
      ],
      "metadata": {
        "id": "ZXCAgwFLYZAC"
      },
      "execution_count": 148,
      "outputs": []
    },
    {
      "cell_type": "code",
      "source": [
        "print(lista)"
      ],
      "metadata": {
        "colab": {
          "base_uri": "https://localhost:8080/"
        },
        "id": "iU_1KkwpYTA3",
        "outputId": "1b81db03-d900-4f2d-8132-7761bbccb2ce"
      },
      "execution_count": 149,
      "outputs": [
        {
          "output_type": "stream",
          "name": "stdout",
          "text": [
            "['a', 'b', 'c', [1, 2, 3, 4, 5], ['pera', 'morango', 'uva']]\n"
          ]
        }
      ]
    },
    {
      "cell_type": "markdown",
      "source": [
        "> Tuplas"
      ],
      "metadata": {
        "id": "9Lc7xNLvYh7H"
      }
    },
    {
      "cell_type": "code",
      "source": [
        "marcas = 'gm', 'ford', 'fiat', 'vw'\n",
        "marcas"
      ],
      "metadata": {
        "colab": {
          "base_uri": "https://localhost:8080/"
        },
        "id": "8sAu7d1zZe6Z",
        "outputId": "db236a08-b68a-411f-a978-8ee3c3d79c52"
      },
      "execution_count": 155,
      "outputs": [
        {
          "output_type": "execute_result",
          "data": {
            "text/plain": [
              "('gm', 'ford', 'fiat', 'vw')"
            ]
          },
          "metadata": {},
          "execution_count": 155
        }
      ]
    },
    {
      "cell_type": "code",
      "source": [
        "marcas[3]"
      ],
      "metadata": {
        "colab": {
          "base_uri": "https://localhost:8080/",
          "height": 35
        },
        "id": "okfGYBhxZt1a",
        "outputId": "e13ba500-0763-49f4-e04d-c6eff5cb8ee1"
      },
      "execution_count": 156,
      "outputs": [
        {
          "output_type": "execute_result",
          "data": {
            "text/plain": [
              "'vw'"
            ],
            "application/vnd.google.colaboratory.intrinsic+json": {
              "type": "string"
            }
          },
          "metadata": {},
          "execution_count": 156
        }
      ]
    },
    {
      "cell_type": "markdown",
      "source": [
        ">> A diferença principal entre lista e Tuplas, é que nas Tuplas os valores não podem ser alterados"
      ],
      "metadata": {
        "id": "dT56AADkalwG"
      }
    },
    {
      "cell_type": "code",
      "source": [
        "marcas[1] = 'ferrari'"
      ],
      "metadata": {
        "colab": {
          "base_uri": "https://localhost:8080/",
          "height": 165
        },
        "id": "zr5lgGStakZn",
        "outputId": "727da7ec-4335-4576-aadd-bab0ec35acc0"
      },
      "execution_count": 157,
      "outputs": [
        {
          "output_type": "error",
          "ename": "TypeError",
          "evalue": "ignored",
          "traceback": [
            "\u001b[0;31m---------------------------------------------------------------------------\u001b[0m",
            "\u001b[0;31mTypeError\u001b[0m                                 Traceback (most recent call last)",
            "\u001b[0;32m<ipython-input-157-915e5fd3e4cf>\u001b[0m in \u001b[0;36m<cell line: 1>\u001b[0;34m()\u001b[0m\n\u001b[0;32m----> 1\u001b[0;31m \u001b[0mmarcas\u001b[0m\u001b[0;34m[\u001b[0m\u001b[0;36m1\u001b[0m\u001b[0;34m]\u001b[0m \u001b[0;34m=\u001b[0m \u001b[0;34m'ferrari'\u001b[0m\u001b[0;34m\u001b[0m\u001b[0;34m\u001b[0m\u001b[0m\n\u001b[0m",
            "\u001b[0;31mTypeError\u001b[0m: 'tuple' object does not support item assignment"
          ]
        }
      ]
    },
    {
      "cell_type": "markdown",
      "source": [
        "# Dicionário"
      ],
      "metadata": {
        "id": "KLDbjnpbfY3k"
      }
    },
    {
      "cell_type": "code",
      "source": [
        "notas = {'português':8, 'inglês':7.4, 'matemática':9}\n",
        "notas"
      ],
      "metadata": {
        "colab": {
          "base_uri": "https://localhost:8080/"
        },
        "id": "gGae35D3fRLk",
        "outputId": "c935e1a6-241e-49bf-fad8-3f4494b20b34"
      },
      "execution_count": 158,
      "outputs": [
        {
          "output_type": "execute_result",
          "data": {
            "text/plain": [
              "{'português': 8, 'inglês': 7.4, 'matemática': 9}"
            ]
          },
          "metadata": {},
          "execution_count": 158
        }
      ]
    },
    {
      "cell_type": "code",
      "source": [
        "pessoa = {'nome':'João', 'idade':25, 'profissão':'pinto'}\n",
        "pessoa"
      ],
      "metadata": {
        "colab": {
          "base_uri": "https://localhost:8080/"
        },
        "id": "8yj4bw9Rm87o",
        "outputId": "709a7d6a-100e-4bdb-a464-527650dcb746"
      },
      "execution_count": 160,
      "outputs": [
        {
          "output_type": "execute_result",
          "data": {
            "text/plain": [
              "{'nome': 'João', 'idade': 25, 'profissão': 'pinto'}"
            ]
          },
          "metadata": {},
          "execution_count": 160
        }
      ]
    },
    {
      "cell_type": "code",
      "source": [
        "times = {1:'flamengo', 2:'São Paulo', 3:'Grêmio' }\n",
        "times"
      ],
      "metadata": {
        "colab": {
          "base_uri": "https://localhost:8080/"
        },
        "id": "RvJz9PVjnSJT",
        "outputId": "09df1589-6a41-4464-ecb6-0e18e73bd398"
      },
      "execution_count": 161,
      "outputs": [
        {
          "output_type": "execute_result",
          "data": {
            "text/plain": [
              "{1: 'flamengo', 2: 'São Paulo', 3: 'Grêmio'}"
            ]
          },
          "metadata": {},
          "execution_count": 161
        }
      ]
    },
    {
      "cell_type": "code",
      "source": [
        "notas['matemática']"
      ],
      "metadata": {
        "colab": {
          "base_uri": "https://localhost:8080/"
        },
        "id": "1npJ_uwln34r",
        "outputId": "8039d1e6-12b4-45d9-ac33-d9b4872b0e9a"
      },
      "execution_count": 162,
      "outputs": [
        {
          "output_type": "execute_result",
          "data": {
            "text/plain": [
              "9"
            ]
          },
          "metadata": {},
          "execution_count": 162
        }
      ]
    },
    {
      "cell_type": "code",
      "source": [
        "notas['português']"
      ],
      "metadata": {
        "colab": {
          "base_uri": "https://localhost:8080/"
        },
        "id": "17beevDmoAQd",
        "outputId": "4cfb7a9a-fd55-4558-ab49-4b49c9193deb"
      },
      "execution_count": 163,
      "outputs": [
        {
          "output_type": "execute_result",
          "data": {
            "text/plain": [
              "8"
            ]
          },
          "metadata": {},
          "execution_count": 163
        }
      ]
    },
    {
      "cell_type": "code",
      "source": [
        "pessoa['nome']"
      ],
      "metadata": {
        "colab": {
          "base_uri": "https://localhost:8080/",
          "height": 35
        },
        "id": "l65Np6cDoGn2",
        "outputId": "544bdb3a-2f47-42e7-e03b-d7f4bd005783"
      },
      "execution_count": 165,
      "outputs": [
        {
          "output_type": "execute_result",
          "data": {
            "text/plain": [
              "'João'"
            ],
            "application/vnd.google.colaboratory.intrinsic+json": {
              "type": "string"
            }
          },
          "metadata": {},
          "execution_count": 165
        }
      ]
    },
    {
      "cell_type": "code",
      "source": [
        "times[3]"
      ],
      "metadata": {
        "colab": {
          "base_uri": "https://localhost:8080/",
          "height": 35
        },
        "id": "aQmP-LQ5oWtz",
        "outputId": "44213be5-bac4-4366-aa98-e3007d43949c"
      },
      "execution_count": 166,
      "outputs": [
        {
          "output_type": "execute_result",
          "data": {
            "text/plain": [
              "'Grêmio'"
            ],
            "application/vnd.google.colaboratory.intrinsic+json": {
              "type": "string"
            }
          },
          "metadata": {},
          "execution_count": 166
        }
      ]
    },
    {
      "cell_type": "code",
      "source": [
        "times[1]"
      ],
      "metadata": {
        "colab": {
          "base_uri": "https://localhost:8080/",
          "height": 35
        },
        "id": "dfIq6wAAoiSs",
        "outputId": "84ce542c-1f50-4f34-d89a-02edaf0ca130"
      },
      "execution_count": 171,
      "outputs": [
        {
          "output_type": "execute_result",
          "data": {
            "text/plain": [
              "'flamengo'"
            ],
            "application/vnd.google.colaboratory.intrinsic+json": {
              "type": "string"
            }
          },
          "metadata": {},
          "execution_count": 171
        }
      ]
    },
    {
      "cell_type": "markdown",
      "source": [
        "> Alterando elementos"
      ],
      "metadata": {
        "id": "rLE1olLRo2nu"
      }
    },
    {
      "cell_type": "code",
      "source": [
        "notas['matemática'] = 10\n",
        "notas"
      ],
      "metadata": {
        "colab": {
          "base_uri": "https://localhost:8080/"
        },
        "id": "k0BeXYlfomkC",
        "outputId": "7fbce2af-cb76-4179-bb8e-78c045a2e888"
      },
      "execution_count": 172,
      "outputs": [
        {
          "output_type": "execute_result",
          "data": {
            "text/plain": [
              "{'português': 8, 'inglês': 7.4, 'matemática': 10}"
            ]
          },
          "metadata": {},
          "execution_count": 172
        }
      ]
    },
    {
      "cell_type": "code",
      "source": [
        "times[2] = 'Palmeiras'"
      ],
      "metadata": {
        "id": "7MScWbexpLyE"
      },
      "execution_count": 173,
      "outputs": []
    },
    {
      "cell_type": "code",
      "source": [
        "times"
      ],
      "metadata": {
        "colab": {
          "base_uri": "https://localhost:8080/"
        },
        "id": "duNq0BbApUeh",
        "outputId": "4a9867be-a0c7-4788-96c5-adbe0604fbff"
      },
      "execution_count": 174,
      "outputs": [
        {
          "output_type": "execute_result",
          "data": {
            "text/plain": [
              "{1: 'flamengo', 2: 'Palmeiras', 3: 'Grêmio'}"
            ]
          },
          "metadata": {},
          "execution_count": 174
        }
      ]
    },
    {
      "cell_type": "markdown",
      "source": [
        ">> Alterando Elementos"
      ],
      "metadata": {
        "id": "w85-WDwkpzBb"
      }
    },
    {
      "cell_type": "code",
      "source": [
        "notas['geografia'] = 7.1\n",
        "notas"
      ],
      "metadata": {
        "colab": {
          "base_uri": "https://localhost:8080/"
        },
        "id": "xDTZuHFapuky",
        "outputId": "8821677f-2ef0-441c-84dc-e35878e4df8f"
      },
      "execution_count": 176,
      "outputs": [
        {
          "output_type": "execute_result",
          "data": {
            "text/plain": [
              "{'português': 8, 'inglês': 7.4, 'matemática': 10, 'geografia': 7.1}"
            ]
          },
          "metadata": {},
          "execution_count": 176
        }
      ]
    },
    {
      "cell_type": "code",
      "source": [
        "times[85] = 'Vasco'"
      ],
      "metadata": {
        "id": "Z5RknYKhp-7R"
      },
      "execution_count": 177,
      "outputs": []
    },
    {
      "cell_type": "code",
      "source": [
        "times"
      ],
      "metadata": {
        "colab": {
          "base_uri": "https://localhost:8080/"
        },
        "id": "yYhqSyOPqLAi",
        "outputId": "cca28a74-79ed-432a-bd4a-0075a0db7f15"
      },
      "execution_count": 178,
      "outputs": [
        {
          "output_type": "execute_result",
          "data": {
            "text/plain": [
              "{1: 'flamengo', 2: 'Palmeiras', 3: 'Grêmio', 85: 'Vasco'}"
            ]
          },
          "metadata": {},
          "execution_count": 178
        }
      ]
    },
    {
      "cell_type": "markdown",
      "source": [
        "# IF / ELSE"
      ],
      "metadata": {
        "id": "YYSBcDXBqSx6"
      }
    },
    {
      "cell_type": "code",
      "source": [
        "x = 1\n",
        "y = 5"
      ],
      "metadata": {
        "id": "nNvmRt_QqMMY"
      },
      "execution_count": 180,
      "outputs": []
    },
    {
      "cell_type": "markdown",
      "source": [
        ">> Operadores Lógicos"
      ],
      "metadata": {
        "id": "YzNHwWM0qkig"
      }
    },
    {
      "cell_type": "code",
      "source": [
        "x == 1"
      ],
      "metadata": {
        "colab": {
          "base_uri": "https://localhost:8080/"
        },
        "id": "pVuVmH9Pqnt7",
        "outputId": "b9889ec5-6858-4518-c35e-9bc4d259cce3"
      },
      "execution_count": 181,
      "outputs": [
        {
          "output_type": "execute_result",
          "data": {
            "text/plain": [
              "True"
            ]
          },
          "metadata": {},
          "execution_count": 181
        }
      ]
    },
    {
      "cell_type": "code",
      "source": [
        "x == 2"
      ],
      "metadata": {
        "colab": {
          "base_uri": "https://localhost:8080/"
        },
        "id": "rI6TSEsIq6cw",
        "outputId": "528d0fd5-5050-4963-d9ed-186cd2a687f6"
      },
      "execution_count": 182,
      "outputs": [
        {
          "output_type": "execute_result",
          "data": {
            "text/plain": [
              "False"
            ]
          },
          "metadata": {},
          "execution_count": 182
        }
      ]
    },
    {
      "cell_type": "code",
      "source": [
        "x < 0"
      ],
      "metadata": {
        "colab": {
          "base_uri": "https://localhost:8080/"
        },
        "id": "mZG-8LbGq9iU",
        "outputId": "0f0cae7a-c7a1-4791-f65a-71e2ee0ebf48"
      },
      "execution_count": 183,
      "outputs": [
        {
          "output_type": "execute_result",
          "data": {
            "text/plain": [
              "False"
            ]
          },
          "metadata": {},
          "execution_count": 183
        }
      ]
    },
    {
      "cell_type": "code",
      "source": [
        "x >= 0"
      ],
      "metadata": {
        "colab": {
          "base_uri": "https://localhost:8080/"
        },
        "id": "PWJcnLTXrGS7",
        "outputId": "95c5d68e-b31e-46f0-8942-de1d87c54ccc"
      },
      "execution_count": 185,
      "outputs": [
        {
          "output_type": "execute_result",
          "data": {
            "text/plain": [
              "True"
            ]
          },
          "metadata": {},
          "execution_count": 185
        }
      ]
    },
    {
      "cell_type": "code",
      "source": [
        "x != 0"
      ],
      "metadata": {
        "colab": {
          "base_uri": "https://localhost:8080/"
        },
        "id": "Jx7nY0MVrXLm",
        "outputId": "9b6a59b2-1546-4bbf-ade8-b0cf92aba8ac"
      },
      "execution_count": 186,
      "outputs": [
        {
          "output_type": "execute_result",
          "data": {
            "text/plain": [
              "True"
            ]
          },
          "metadata": {},
          "execution_count": 186
        }
      ]
    },
    {
      "cell_type": "code",
      "source": [
        "(x > 0) and (y < 2)"
      ],
      "metadata": {
        "colab": {
          "base_uri": "https://localhost:8080/"
        },
        "id": "mHaZiEynrcQB",
        "outputId": "06b12485-72bb-4ecd-a1ad-1a54349182e6"
      },
      "execution_count": 187,
      "outputs": [
        {
          "output_type": "execute_result",
          "data": {
            "text/plain": [
              "False"
            ]
          },
          "metadata": {},
          "execution_count": 187
        }
      ]
    },
    {
      "cell_type": "code",
      "source": [
        "(x > 0) or (y < 2)"
      ],
      "metadata": {
        "colab": {
          "base_uri": "https://localhost:8080/"
        },
        "id": "IrZd0lHGrptT",
        "outputId": "850b722d-2bb0-4d2c-ccad-c94cd2b9fe88"
      },
      "execution_count": 188,
      "outputs": [
        {
          "output_type": "execute_result",
          "data": {
            "text/plain": [
              "True"
            ]
          },
          "metadata": {},
          "execution_count": 188
        }
      ]
    },
    {
      "cell_type": "markdown",
      "source": [
        ">> Identação Obrigatória"
      ],
      "metadata": {
        "id": "_epReUEIr3eG"
      }
    },
    {
      "cell_type": "code",
      "source": [
        "x = 0\n",
        "if (x > 0):\n",
        "    print(\"x é maior que zero\")\n",
        "else:\n",
        "    print('x é menor ou igual a 0')"
      ],
      "metadata": {
        "colab": {
          "base_uri": "https://localhost:8080/"
        },
        "id": "p1botLKnr9gR",
        "outputId": "f90d8d8f-f105-495a-8829-0853b99d35bc"
      },
      "execution_count": 211,
      "outputs": [
        {
          "output_type": "stream",
          "name": "stdout",
          "text": [
            "x é menor ou igual a 0\n"
          ]
        }
      ]
    },
    {
      "cell_type": "code",
      "source": [
        "x = -5\n",
        "if (x > 0):\n",
        "    print(\"x é maior que zero\")\n",
        "elif(x == 0):\n",
        "    print(\"x é zero\")\n",
        "else:\n",
        "    print('x é menor 0')"
      ],
      "metadata": {
        "colab": {
          "base_uri": "https://localhost:8080/"
        },
        "id": "70Ow672FvMtq",
        "outputId": "a945ec47-f01d-4900-f120-3651fea13435"
      },
      "execution_count": 214,
      "outputs": [
        {
          "output_type": "stream",
          "name": "stdout",
          "text": [
            "x é menor 0\n"
          ]
        }
      ]
    },
    {
      "cell_type": "markdown",
      "source": [
        ">> Uso do FOR (comando de repetição)"
      ],
      "metadata": {
        "id": "vIJc781gwmQ7"
      }
    },
    {
      "cell_type": "code",
      "source": [
        "contador = [0,1,2,3,4,5,6,7,8,9]\n",
        "contador"
      ],
      "metadata": {
        "id": "P2DUyiocwo7c",
        "outputId": "a9dfd977-66b0-4e5e-e5db-8656f6a443f6",
        "colab": {
          "base_uri": "https://localhost:8080/"
        }
      },
      "execution_count": 216,
      "outputs": [
        {
          "output_type": "execute_result",
          "data": {
            "text/plain": [
              "[0, 1, 2, 3, 4, 5, 6, 7, 8, 9]"
            ]
          },
          "metadata": {},
          "execution_count": 216
        }
      ]
    },
    {
      "cell_type": "code",
      "source": [
        "for valor in contador:\n",
        "    print(valor)"
      ],
      "metadata": {
        "id": "yNEElXl8w3AZ",
        "outputId": "3a829c71-ffb7-4490-c7c7-e5bf94eb4c1e",
        "colab": {
          "base_uri": "https://localhost:8080/"
        }
      },
      "execution_count": 217,
      "outputs": [
        {
          "output_type": "stream",
          "name": "stdout",
          "text": [
            "0\n",
            "1\n",
            "2\n",
            "3\n",
            "4\n",
            "5\n",
            "6\n",
            "7\n",
            "8\n",
            "9\n"
          ]
        }
      ]
    },
    {
      "cell_type": "code",
      "source": [
        "range?"
      ],
      "metadata": {
        "id": "SIDHH_4NxUs9"
      },
      "execution_count": 221,
      "outputs": []
    },
    {
      "cell_type": "code",
      "source": [
        "for valor in range(10):\n",
        "    print(valor)"
      ],
      "metadata": {
        "id": "UidJ-pesxwr2",
        "outputId": "44c07dd3-0028-434f-f2e4-34a5911ba1ea",
        "colab": {
          "base_uri": "https://localhost:8080/"
        }
      },
      "execution_count": 223,
      "outputs": [
        {
          "output_type": "stream",
          "name": "stdout",
          "text": [
            "0\n",
            "1\n",
            "2\n",
            "3\n",
            "4\n",
            "5\n",
            "6\n",
            "7\n",
            "8\n",
            "9\n"
          ]
        }
      ]
    },
    {
      "cell_type": "code",
      "source": [
        "for i in range(4,18,2):\n",
        "    print(i)"
      ],
      "metadata": {
        "id": "gMlmLRiyySjc",
        "outputId": "a25fb757-a796-4159-fb3b-b70d48f71729",
        "colab": {
          "base_uri": "https://localhost:8080/"
        }
      },
      "execution_count": 224,
      "outputs": [
        {
          "output_type": "stream",
          "name": "stdout",
          "text": [
            "4\n",
            "6\n",
            "8\n",
            "10\n",
            "12\n",
            "14\n",
            "16\n"
          ]
        }
      ]
    },
    {
      "cell_type": "code",
      "source": [
        "cidades = ['São Paulo', 'Brasília', 'Curitiba']\n",
        "cidades"
      ],
      "metadata": {
        "id": "R8vakf5ay1A3",
        "outputId": "b114d44f-9b4e-44b2-a75c-43386e60702b",
        "colab": {
          "base_uri": "https://localhost:8080/"
        }
      },
      "execution_count": 225,
      "outputs": [
        {
          "output_type": "execute_result",
          "data": {
            "text/plain": [
              "['São Paulo', 'Brasília', 'Curitiba']"
            ]
          },
          "metadata": {},
          "execution_count": 225
        }
      ]
    },
    {
      "cell_type": "code",
      "source": [
        "for cidade in cidades:\n",
        "    print(\"Já morei em \" + cidade)"
      ],
      "metadata": {
        "id": "ZudIDmsezJuF",
        "outputId": "43f1fabc-08bb-4b96-b519-e9dd29ae120f",
        "colab": {
          "base_uri": "https://localhost:8080/"
        }
      },
      "execution_count": 228,
      "outputs": [
        {
          "output_type": "stream",
          "name": "stdout",
          "text": [
            "Já morei em São Paulo\n",
            "Já morei em Brasília\n",
            "Já morei em Curitiba\n"
          ]
        }
      ]
    },
    {
      "cell_type": "code",
      "source": [
        "minha_lista = [1,2,3,'cachorro', 'gato', 'papagáio']\n",
        "minha_lista"
      ],
      "metadata": {
        "id": "xDVv1ysazcvt",
        "outputId": "3fdfa428-ae02-4df3-eee0-4641bd30c5d2",
        "colab": {
          "base_uri": "https://localhost:8080/"
        }
      },
      "execution_count": 229,
      "outputs": [
        {
          "output_type": "execute_result",
          "data": {
            "text/plain": [
              "[1, 2, 3, 'cachorro', 'gato', 'papagáio']"
            ]
          },
          "metadata": {},
          "execution_count": 229
        }
      ]
    },
    {
      "cell_type": "code",
      "source": [
        "for cada_item in minha_lista:\n",
        "    print(cada_item)"
      ],
      "metadata": {
        "id": "UpreL_2D0Wo0",
        "outputId": "2113af5d-2277-44b4-81f0-8d6960e78622",
        "colab": {
          "base_uri": "https://localhost:8080/"
        }
      },
      "execution_count": 231,
      "outputs": [
        {
          "output_type": "stream",
          "name": "stdout",
          "text": [
            "1\n",
            "2\n",
            "3\n",
            "cachorro\n",
            "gato\n",
            "papagáio\n"
          ]
        }
      ]
    },
    {
      "cell_type": "markdown",
      "source": [
        ">> Uso do WHILE (comando de repetição)"
      ],
      "metadata": {
        "id": "6uJmL6NZ0s-I"
      }
    },
    {
      "cell_type": "code",
      "source": [
        "x = 0\n",
        "while x  < 5:\n",
        "  print(x)\n",
        "  x += 1"
      ],
      "metadata": {
        "id": "yO8ZuUhV0n5V",
        "outputId": "9987fd0c-3498-4974-af7e-8eee40b5d94e",
        "colab": {
          "base_uri": "https://localhost:8080/"
        }
      },
      "execution_count": 233,
      "outputs": [
        {
          "output_type": "stream",
          "name": "stdout",
          "text": [
            "0\n",
            "1\n",
            "2\n",
            "3\n",
            "4\n"
          ]
        }
      ]
    },
    {
      "cell_type": "markdown",
      "source": [
        "List Comprehensions"
      ],
      "metadata": {
        "id": "ofSxGGTe10Tx"
      }
    },
    {
      "cell_type": "code",
      "source": [
        "quadrados = []\n",
        "for numero in range(10):\n",
        "  quadrados.append(numero**2)\n",
        "quadrados"
      ],
      "metadata": {
        "id": "CD0HDpAd1gAE",
        "outputId": "673cef04-094c-42fd-9ecb-612ae1503c9b",
        "colab": {
          "base_uri": "https://localhost:8080/"
        }
      },
      "execution_count": 236,
      "outputs": [
        {
          "output_type": "execute_result",
          "data": {
            "text/plain": [
              "[0, 1, 4, 9, 16, 25, 36, 49, 64, 81]"
            ]
          },
          "metadata": {},
          "execution_count": 236
        }
      ]
    },
    {
      "cell_type": "markdown",
      "source": [
        ">> Uma maneira mais concisa de criar listas"
      ],
      "metadata": {
        "id": "TuXwmaPa2WIt"
      }
    },
    {
      "cell_type": "code",
      "source": [
        "quad = [x**2 for x in range(10)]\n",
        "quad"
      ],
      "metadata": {
        "id": "77Td2K7W2Kkh",
        "outputId": "63049fa1-c485-41e7-b7e5-53415b4fbd78",
        "colab": {
          "base_uri": "https://localhost:8080/"
        }
      },
      "execution_count": 237,
      "outputs": [
        {
          "output_type": "execute_result",
          "data": {
            "text/plain": [
              "[0, 1, 4, 9, 16, 25, 36, 49, 64, 81]"
            ]
          },
          "metadata": {},
          "execution_count": 237
        }
      ]
    },
    {
      "cell_type": "markdown",
      "source": [
        "# FUNÇÕES"
      ],
      "metadata": {
        "id": "6iiBcwhp3XM2"
      }
    },
    {
      "cell_type": "markdown",
      "source": [
        ">> Funções que não retorna valor"
      ],
      "metadata": {
        "id": "x7WbKZX289BK"
      }
    },
    {
      "cell_type": "code",
      "source": [
        "def exibir_mensagem(parametro):\n",
        "  print(\"mensagem >> \" + parametro)"
      ],
      "metadata": {
        "id": "miLzqrZ43EhJ"
      },
      "execution_count": 239,
      "outputs": []
    },
    {
      "cell_type": "code",
      "source": [
        "exibir_mensagem('Olá !!!')"
      ],
      "metadata": {
        "id": "qIQhmt5Q9oo3",
        "outputId": "093ddac3-75cd-46ce-a279-27b4c56d7cf7",
        "colab": {
          "base_uri": "https://localhost:8080/"
        }
      },
      "execution_count": 240,
      "outputs": [
        {
          "output_type": "stream",
          "name": "stdout",
          "text": [
            "mensagem >> Olá !!!\n"
          ]
        }
      ]
    },
    {
      "cell_type": "code",
      "source": [
        "exibir_mensagem('Olá Mundo !!')"
      ],
      "metadata": {
        "id": "HJNv3IiN9vPI",
        "outputId": "24b5a305-ce24-4d93-de55-6b30fe7d7f07",
        "colab": {
          "base_uri": "https://localhost:8080/"
        }
      },
      "execution_count": 241,
      "outputs": [
        {
          "output_type": "stream",
          "name": "stdout",
          "text": [
            "mensagem >> Olá Mundo !!\n"
          ]
        }
      ]
    },
    {
      "cell_type": "code",
      "source": [
        " def exibir_dados(nome, idade):\n",
        "    print(\"Meu nome é {}\".format(nome))\n",
        "    print(\"Tenho {} anos.\".format(idade))"
      ],
      "metadata": {
        "id": "vbccy2N195Az"
      },
      "execution_count": 246,
      "outputs": []
    },
    {
      "cell_type": "code",
      "source": [
        "exibir_dados('Maria', 70)"
      ],
      "metadata": {
        "id": "gSa3ogW7-uId",
        "outputId": "451e27f3-3cad-4356-d864-16b04317d026",
        "colab": {
          "base_uri": "https://localhost:8080/"
        }
      },
      "execution_count": 247,
      "outputs": [
        {
          "output_type": "stream",
          "name": "stdout",
          "text": [
            "Meu nome é Maria\n",
            "Tenho 70 anos.\n"
          ]
        }
      ]
    },
    {
      "cell_type": "code",
      "source": [
        "exibir_dados(\"Paulor\", 12)"
      ],
      "metadata": {
        "id": "1bvAEQal-3BC",
        "outputId": "55c1dbd1-f137-4be7-c231-9d1b078dc53d",
        "colab": {
          "base_uri": "https://localhost:8080/"
        }
      },
      "execution_count": 248,
      "outputs": [
        {
          "output_type": "stream",
          "name": "stdout",
          "text": [
            "Meu nome é Paulor\n",
            "Tenho 12 anos.\n"
          ]
        }
      ]
    },
    {
      "cell_type": "markdown",
      "source": [
        ">> Funções que retorna valor"
      ],
      "metadata": {
        "id": "1u8IidlS_nBC"
      }
    },
    {
      "cell_type": "code",
      "source": [
        "def elevar_ao_quadrado(numero):\n",
        "  return(numero ** 2)"
      ],
      "metadata": {
        "id": "qVXhysPs_qd7"
      },
      "execution_count": 250,
      "outputs": []
    },
    {
      "cell_type": "code",
      "source": [
        "elevar_ao_quadrado(4)"
      ],
      "metadata": {
        "id": "jNELIPUj_8VJ",
        "outputId": "91833cc1-9a7b-49df-9fd4-c4011da826d6",
        "colab": {
          "base_uri": "https://localhost:8080/"
        }
      },
      "execution_count": 252,
      "outputs": [
        {
          "output_type": "execute_result",
          "data": {
            "text/plain": [
              "16"
            ]
          },
          "metadata": {},
          "execution_count": 252
        }
      ]
    },
    {
      "cell_type": "code",
      "source": [
        "elevar_ao_quadrado(252)"
      ],
      "metadata": {
        "id": "Ig9J77vsAAQS",
        "outputId": "04dbe7de-a036-435c-a82f-037050a2cfe1",
        "colab": {
          "base_uri": "https://localhost:8080/"
        }
      },
      "execution_count": 253,
      "outputs": [
        {
          "output_type": "execute_result",
          "data": {
            "text/plain": [
              "63504"
            ]
          },
          "metadata": {},
          "execution_count": 253
        }
      ]
    },
    {
      "cell_type": "markdown",
      "source": [
        "# Bibliotecas"
      ],
      "metadata": {
        "id": "Rg0RrYBxAlCk"
      }
    },
    {
      "cell_type": "markdown",
      "source": [
        ">> Já instalada no ambiente do Google Colab"
      ],
      "metadata": {
        "id": "PuBBxER7Ap-7"
      }
    },
    {
      "cell_type": "code",
      "source": [
        "import numpy"
      ],
      "metadata": {
        "id": "7O6Z4yuRAoOz"
      },
      "execution_count": 254,
      "outputs": []
    },
    {
      "cell_type": "code",
      "source": [
        "numpy.ones(5)"
      ],
      "metadata": {
        "id": "xpJB0ZzcA9oZ",
        "outputId": "4e80def7-6767-4bd1-c073-ab03476941ca",
        "colab": {
          "base_uri": "https://localhost:8080/"
        }
      },
      "execution_count": 255,
      "outputs": [
        {
          "output_type": "execute_result",
          "data": {
            "text/plain": [
              "array([1., 1., 1., 1., 1.])"
            ]
          },
          "metadata": {},
          "execution_count": 255
        }
      ]
    },
    {
      "cell_type": "markdown",
      "source": [
        ">> Utilizando um apelido para a função"
      ],
      "metadata": {
        "id": "Q-1tBs_DBWy3"
      }
    },
    {
      "cell_type": "code",
      "source": [
        "import numpy as np"
      ],
      "metadata": {
        "id": "Ek63hRvYBBSb"
      },
      "execution_count": 256,
      "outputs": []
    },
    {
      "cell_type": "code",
      "source": [
        "np.ones(5)"
      ],
      "metadata": {
        "id": "YpBQL9NbBPrn",
        "outputId": "66ceeb77-2fbd-4406-81a9-bb2dc1559deb",
        "colab": {
          "base_uri": "https://localhost:8080/"
        }
      },
      "execution_count": 261,
      "outputs": [
        {
          "output_type": "execute_result",
          "data": {
            "text/plain": [
              "array([1., 1., 1., 1., 1.])"
            ]
          },
          "metadata": {},
          "execution_count": 261
        }
      ]
    },
    {
      "cell_type": "code",
      "source": [
        "from numpy import ones"
      ],
      "metadata": {
        "id": "b5kZs-G2BgHf"
      },
      "execution_count": 258,
      "outputs": []
    },
    {
      "cell_type": "code",
      "source": [
        "ones(10)"
      ],
      "metadata": {
        "id": "Ee7PhU51BUtZ",
        "outputId": "7d5b7db1-e831-4356-fdc4-799f9956688a",
        "colab": {
          "base_uri": "https://localhost:8080/"
        }
      },
      "execution_count": 260,
      "outputs": [
        {
          "output_type": "execute_result",
          "data": {
            "text/plain": [
              "array([1., 1., 1., 1., 1., 1., 1., 1., 1., 1.])"
            ]
          },
          "metadata": {},
          "execution_count": 260
        }
      ]
    },
    {
      "cell_type": "markdown",
      "source": [
        ">> Instalando Bibliotecas Externas"
      ],
      "metadata": {
        "id": "8nxpWph7B9GA"
      }
    },
    {
      "cell_type": "code",
      "source": [
        "!pip install yfinance"
      ],
      "metadata": {
        "id": "wHEzm8wjBoG8",
        "outputId": "3990e925-e6d1-4729-d984-1ecb7d2c5406",
        "colab": {
          "base_uri": "https://localhost:8080/"
        }
      },
      "execution_count": 263,
      "outputs": [
        {
          "output_type": "stream",
          "name": "stdout",
          "text": [
            "Requirement already satisfied: yfinance in /usr/local/lib/python3.10/dist-packages (0.2.25)\n",
            "Requirement already satisfied: pandas>=1.3.0 in /usr/local/lib/python3.10/dist-packages (from yfinance) (1.5.3)\n",
            "Requirement already satisfied: numpy>=1.16.5 in /usr/local/lib/python3.10/dist-packages (from yfinance) (1.22.4)\n",
            "Requirement already satisfied: requests>=2.26 in /usr/local/lib/python3.10/dist-packages (from yfinance) (2.27.1)\n",
            "Requirement already satisfied: multitasking>=0.0.7 in /usr/local/lib/python3.10/dist-packages (from yfinance) (0.0.11)\n",
            "Requirement already satisfied: lxml>=4.9.1 in /usr/local/lib/python3.10/dist-packages (from yfinance) (4.9.3)\n",
            "Requirement already satisfied: appdirs>=1.4.4 in /usr/local/lib/python3.10/dist-packages (from yfinance) (1.4.4)\n",
            "Requirement already satisfied: pytz>=2022.5 in /usr/local/lib/python3.10/dist-packages (from yfinance) (2022.7.1)\n",
            "Requirement already satisfied: frozendict>=2.3.4 in /usr/local/lib/python3.10/dist-packages (from yfinance) (2.3.8)\n",
            "Requirement already satisfied: beautifulsoup4>=4.11.1 in /usr/local/lib/python3.10/dist-packages (from yfinance) (4.11.2)\n",
            "Requirement already satisfied: html5lib>=1.1 in /usr/local/lib/python3.10/dist-packages (from yfinance) (1.1)\n",
            "Requirement already satisfied: soupsieve>1.2 in /usr/local/lib/python3.10/dist-packages (from beautifulsoup4>=4.11.1->yfinance) (2.4.1)\n",
            "Requirement already satisfied: six>=1.9 in /usr/local/lib/python3.10/dist-packages (from html5lib>=1.1->yfinance) (1.16.0)\n",
            "Requirement already satisfied: webencodings in /usr/local/lib/python3.10/dist-packages (from html5lib>=1.1->yfinance) (0.5.1)\n",
            "Requirement already satisfied: python-dateutil>=2.8.1 in /usr/local/lib/python3.10/dist-packages (from pandas>=1.3.0->yfinance) (2.8.2)\n",
            "Requirement already satisfied: urllib3<1.27,>=1.21.1 in /usr/local/lib/python3.10/dist-packages (from requests>=2.26->yfinance) (1.26.16)\n",
            "Requirement already satisfied: certifi>=2017.4.17 in /usr/local/lib/python3.10/dist-packages (from requests>=2.26->yfinance) (2023.7.22)\n",
            "Requirement already satisfied: charset-normalizer~=2.0.0 in /usr/local/lib/python3.10/dist-packages (from requests>=2.26->yfinance) (2.0.12)\n",
            "Requirement already satisfied: idna<4,>=2.5 in /usr/local/lib/python3.10/dist-packages (from requests>=2.26->yfinance) (3.4)\n"
          ]
        }
      ]
    },
    {
      "cell_type": "code",
      "source": [
        "import yfinance as yf"
      ],
      "metadata": {
        "id": "1SV--lkzCLdm"
      },
      "execution_count": 265,
      "outputs": []
    },
    {
      "cell_type": "code",
      "source": [
        "yf.download('^BVSP')"
      ],
      "metadata": {
        "id": "FEND79AaCd2i",
        "outputId": "a425ed26-babb-4dbd-d1bf-e8ae3e5cd68b",
        "colab": {
          "base_uri": "https://localhost:8080/",
          "height": 710
        }
      },
      "execution_count": 267,
      "outputs": [
        {
          "output_type": "stream",
          "name": "stdout",
          "text": [
            "\r[*********************100%***********************]  1 of 1 completed\n"
          ]
        },
        {
          "output_type": "execute_result",
          "data": {
            "text/plain": [
              "                     Open           High            Low          Close  \\\n",
              "Date                                                                     \n",
              "1993-04-27      24.799999      25.400000      24.500000      24.500000   \n",
              "1993-04-28      24.500000      24.600000      23.700001      24.299999   \n",
              "1993-04-29      24.299999      24.799999      23.700001      23.700001   \n",
              "1993-04-30      23.700001      24.200001      23.700001      24.100000   \n",
              "1993-05-03      24.100000      24.400000      23.799999      24.100000   \n",
              "...                   ...            ...            ...            ...   \n",
              "2023-07-21  118090.000000  120373.000000  118086.000000  120217.000000   \n",
              "2023-07-24  120220.000000  121772.000000  120099.000000  121342.000000   \n",
              "2023-07-25  121344.000000  123010.000000  121344.000000  122008.000000   \n",
              "2023-07-26  122003.000000  122747.000000  121370.000000  122560.000000   \n",
              "2023-07-27  122560.000000  122599.000000  119825.000000  119990.000000   \n",
              "\n",
              "                Adj Close    Volume  \n",
              "Date                                 \n",
              "1993-04-27      24.500000         0  \n",
              "1993-04-28      24.299999         0  \n",
              "1993-04-29      23.700001         0  \n",
              "1993-04-30      24.100000         0  \n",
              "1993-05-03      24.100000         0  \n",
              "...                   ...       ...  \n",
              "2023-07-21  120217.000000  11181500  \n",
              "2023-07-24  121342.000000  10494800  \n",
              "2023-07-25  122008.000000  11427100  \n",
              "2023-07-26  122560.000000   9988800  \n",
              "2023-07-27  119990.000000  10678700  \n",
              "\n",
              "[7488 rows x 6 columns]"
            ],
            "text/html": [
              "\n",
              "\n",
              "  <div id=\"df-15a21596-f490-4e0e-9e58-c75aca9a7038\">\n",
              "    <div class=\"colab-df-container\">\n",
              "      <div>\n",
              "<style scoped>\n",
              "    .dataframe tbody tr th:only-of-type {\n",
              "        vertical-align: middle;\n",
              "    }\n",
              "\n",
              "    .dataframe tbody tr th {\n",
              "        vertical-align: top;\n",
              "    }\n",
              "\n",
              "    .dataframe thead th {\n",
              "        text-align: right;\n",
              "    }\n",
              "</style>\n",
              "<table border=\"1\" class=\"dataframe\">\n",
              "  <thead>\n",
              "    <tr style=\"text-align: right;\">\n",
              "      <th></th>\n",
              "      <th>Open</th>\n",
              "      <th>High</th>\n",
              "      <th>Low</th>\n",
              "      <th>Close</th>\n",
              "      <th>Adj Close</th>\n",
              "      <th>Volume</th>\n",
              "    </tr>\n",
              "    <tr>\n",
              "      <th>Date</th>\n",
              "      <th></th>\n",
              "      <th></th>\n",
              "      <th></th>\n",
              "      <th></th>\n",
              "      <th></th>\n",
              "      <th></th>\n",
              "    </tr>\n",
              "  </thead>\n",
              "  <tbody>\n",
              "    <tr>\n",
              "      <th>1993-04-27</th>\n",
              "      <td>24.799999</td>\n",
              "      <td>25.400000</td>\n",
              "      <td>24.500000</td>\n",
              "      <td>24.500000</td>\n",
              "      <td>24.500000</td>\n",
              "      <td>0</td>\n",
              "    </tr>\n",
              "    <tr>\n",
              "      <th>1993-04-28</th>\n",
              "      <td>24.500000</td>\n",
              "      <td>24.600000</td>\n",
              "      <td>23.700001</td>\n",
              "      <td>24.299999</td>\n",
              "      <td>24.299999</td>\n",
              "      <td>0</td>\n",
              "    </tr>\n",
              "    <tr>\n",
              "      <th>1993-04-29</th>\n",
              "      <td>24.299999</td>\n",
              "      <td>24.799999</td>\n",
              "      <td>23.700001</td>\n",
              "      <td>23.700001</td>\n",
              "      <td>23.700001</td>\n",
              "      <td>0</td>\n",
              "    </tr>\n",
              "    <tr>\n",
              "      <th>1993-04-30</th>\n",
              "      <td>23.700001</td>\n",
              "      <td>24.200001</td>\n",
              "      <td>23.700001</td>\n",
              "      <td>24.100000</td>\n",
              "      <td>24.100000</td>\n",
              "      <td>0</td>\n",
              "    </tr>\n",
              "    <tr>\n",
              "      <th>1993-05-03</th>\n",
              "      <td>24.100000</td>\n",
              "      <td>24.400000</td>\n",
              "      <td>23.799999</td>\n",
              "      <td>24.100000</td>\n",
              "      <td>24.100000</td>\n",
              "      <td>0</td>\n",
              "    </tr>\n",
              "    <tr>\n",
              "      <th>...</th>\n",
              "      <td>...</td>\n",
              "      <td>...</td>\n",
              "      <td>...</td>\n",
              "      <td>...</td>\n",
              "      <td>...</td>\n",
              "      <td>...</td>\n",
              "    </tr>\n",
              "    <tr>\n",
              "      <th>2023-07-21</th>\n",
              "      <td>118090.000000</td>\n",
              "      <td>120373.000000</td>\n",
              "      <td>118086.000000</td>\n",
              "      <td>120217.000000</td>\n",
              "      <td>120217.000000</td>\n",
              "      <td>11181500</td>\n",
              "    </tr>\n",
              "    <tr>\n",
              "      <th>2023-07-24</th>\n",
              "      <td>120220.000000</td>\n",
              "      <td>121772.000000</td>\n",
              "      <td>120099.000000</td>\n",
              "      <td>121342.000000</td>\n",
              "      <td>121342.000000</td>\n",
              "      <td>10494800</td>\n",
              "    </tr>\n",
              "    <tr>\n",
              "      <th>2023-07-25</th>\n",
              "      <td>121344.000000</td>\n",
              "      <td>123010.000000</td>\n",
              "      <td>121344.000000</td>\n",
              "      <td>122008.000000</td>\n",
              "      <td>122008.000000</td>\n",
              "      <td>11427100</td>\n",
              "    </tr>\n",
              "    <tr>\n",
              "      <th>2023-07-26</th>\n",
              "      <td>122003.000000</td>\n",
              "      <td>122747.000000</td>\n",
              "      <td>121370.000000</td>\n",
              "      <td>122560.000000</td>\n",
              "      <td>122560.000000</td>\n",
              "      <td>9988800</td>\n",
              "    </tr>\n",
              "    <tr>\n",
              "      <th>2023-07-27</th>\n",
              "      <td>122560.000000</td>\n",
              "      <td>122599.000000</td>\n",
              "      <td>119825.000000</td>\n",
              "      <td>119990.000000</td>\n",
              "      <td>119990.000000</td>\n",
              "      <td>10678700</td>\n",
              "    </tr>\n",
              "  </tbody>\n",
              "</table>\n",
              "<p>7488 rows × 6 columns</p>\n",
              "</div>\n",
              "      <button class=\"colab-df-convert\" onclick=\"convertToInteractive('df-15a21596-f490-4e0e-9e58-c75aca9a7038')\"\n",
              "              title=\"Convert this dataframe to an interactive table.\"\n",
              "              style=\"display:none;\">\n",
              "\n",
              "  <svg xmlns=\"http://www.w3.org/2000/svg\" height=\"24px\"viewBox=\"0 0 24 24\"\n",
              "       width=\"24px\">\n",
              "    <path d=\"M0 0h24v24H0V0z\" fill=\"none\"/>\n",
              "    <path d=\"M18.56 5.44l.94 2.06.94-2.06 2.06-.94-2.06-.94-.94-2.06-.94 2.06-2.06.94zm-11 1L8.5 8.5l.94-2.06 2.06-.94-2.06-.94L8.5 2.5l-.94 2.06-2.06.94zm10 10l.94 2.06.94-2.06 2.06-.94-2.06-.94-.94-2.06-.94 2.06-2.06.94z\"/><path d=\"M17.41 7.96l-1.37-1.37c-.4-.4-.92-.59-1.43-.59-.52 0-1.04.2-1.43.59L10.3 9.45l-7.72 7.72c-.78.78-.78 2.05 0 2.83L4 21.41c.39.39.9.59 1.41.59.51 0 1.02-.2 1.41-.59l7.78-7.78 2.81-2.81c.8-.78.8-2.07 0-2.86zM5.41 20L4 18.59l7.72-7.72 1.47 1.35L5.41 20z\"/>\n",
              "  </svg>\n",
              "      </button>\n",
              "\n",
              "\n",
              "\n",
              "    <div id=\"df-5f8542e9-3f0e-4242-9902-439550b59fa0\">\n",
              "      <button class=\"colab-df-quickchart\" onclick=\"quickchart('df-5f8542e9-3f0e-4242-9902-439550b59fa0')\"\n",
              "              title=\"Suggest charts.\"\n",
              "              style=\"display:none;\">\n",
              "\n",
              "<svg xmlns=\"http://www.w3.org/2000/svg\" height=\"24px\"viewBox=\"0 0 24 24\"\n",
              "     width=\"24px\">\n",
              "    <g>\n",
              "        <path d=\"M19 3H5c-1.1 0-2 .9-2 2v14c0 1.1.9 2 2 2h14c1.1 0 2-.9 2-2V5c0-1.1-.9-2-2-2zM9 17H7v-7h2v7zm4 0h-2V7h2v10zm4 0h-2v-4h2v4z\"/>\n",
              "    </g>\n",
              "</svg>\n",
              "      </button>\n",
              "    </div>\n",
              "\n",
              "<style>\n",
              "  .colab-df-quickchart {\n",
              "    background-color: #E8F0FE;\n",
              "    border: none;\n",
              "    border-radius: 50%;\n",
              "    cursor: pointer;\n",
              "    display: none;\n",
              "    fill: #1967D2;\n",
              "    height: 32px;\n",
              "    padding: 0 0 0 0;\n",
              "    width: 32px;\n",
              "  }\n",
              "\n",
              "  .colab-df-quickchart:hover {\n",
              "    background-color: #E2EBFA;\n",
              "    box-shadow: 0px 1px 2px rgba(60, 64, 67, 0.3), 0px 1px 3px 1px rgba(60, 64, 67, 0.15);\n",
              "    fill: #174EA6;\n",
              "  }\n",
              "\n",
              "  [theme=dark] .colab-df-quickchart {\n",
              "    background-color: #3B4455;\n",
              "    fill: #D2E3FC;\n",
              "  }\n",
              "\n",
              "  [theme=dark] .colab-df-quickchart:hover {\n",
              "    background-color: #434B5C;\n",
              "    box-shadow: 0px 1px 3px 1px rgba(0, 0, 0, 0.15);\n",
              "    filter: drop-shadow(0px 1px 2px rgba(0, 0, 0, 0.3));\n",
              "    fill: #FFFFFF;\n",
              "  }\n",
              "</style>\n",
              "\n",
              "    <script>\n",
              "      async function quickchart(key) {\n",
              "        const containerElement = document.querySelector('#' + key);\n",
              "        const charts = await google.colab.kernel.invokeFunction(\n",
              "            'suggestCharts', [key], {});\n",
              "      }\n",
              "    </script>\n",
              "\n",
              "      <script>\n",
              "\n",
              "function displayQuickchartButton(domScope) {\n",
              "  let quickchartButtonEl =\n",
              "    domScope.querySelector('#df-5f8542e9-3f0e-4242-9902-439550b59fa0 button.colab-df-quickchart');\n",
              "  quickchartButtonEl.style.display =\n",
              "    google.colab.kernel.accessAllowed ? 'block' : 'none';\n",
              "}\n",
              "\n",
              "        displayQuickchartButton(document);\n",
              "      </script>\n",
              "      <style>\n",
              "    .colab-df-container {\n",
              "      display:flex;\n",
              "      flex-wrap:wrap;\n",
              "      gap: 12px;\n",
              "    }\n",
              "\n",
              "    .colab-df-convert {\n",
              "      background-color: #E8F0FE;\n",
              "      border: none;\n",
              "      border-radius: 50%;\n",
              "      cursor: pointer;\n",
              "      display: none;\n",
              "      fill: #1967D2;\n",
              "      height: 32px;\n",
              "      padding: 0 0 0 0;\n",
              "      width: 32px;\n",
              "    }\n",
              "\n",
              "    .colab-df-convert:hover {\n",
              "      background-color: #E2EBFA;\n",
              "      box-shadow: 0px 1px 2px rgba(60, 64, 67, 0.3), 0px 1px 3px 1px rgba(60, 64, 67, 0.15);\n",
              "      fill: #174EA6;\n",
              "    }\n",
              "\n",
              "    [theme=dark] .colab-df-convert {\n",
              "      background-color: #3B4455;\n",
              "      fill: #D2E3FC;\n",
              "    }\n",
              "\n",
              "    [theme=dark] .colab-df-convert:hover {\n",
              "      background-color: #434B5C;\n",
              "      box-shadow: 0px 1px 3px 1px rgba(0, 0, 0, 0.15);\n",
              "      filter: drop-shadow(0px 1px 2px rgba(0, 0, 0, 0.3));\n",
              "      fill: #FFFFFF;\n",
              "    }\n",
              "  </style>\n",
              "\n",
              "      <script>\n",
              "        const buttonEl =\n",
              "          document.querySelector('#df-15a21596-f490-4e0e-9e58-c75aca9a7038 button.colab-df-convert');\n",
              "        buttonEl.style.display =\n",
              "          google.colab.kernel.accessAllowed ? 'block' : 'none';\n",
              "\n",
              "        async function convertToInteractive(key) {\n",
              "          const element = document.querySelector('#df-15a21596-f490-4e0e-9e58-c75aca9a7038');\n",
              "          const dataTable =\n",
              "            await google.colab.kernel.invokeFunction('convertToInteractive',\n",
              "                                                     [key], {});\n",
              "          if (!dataTable) return;\n",
              "\n",
              "          const docLinkHtml = 'Like what you see? Visit the ' +\n",
              "            '<a target=\"_blank\" href=https://colab.research.google.com/notebooks/data_table.ipynb>data table notebook</a>'\n",
              "            + ' to learn more about interactive tables.';\n",
              "          element.innerHTML = '';\n",
              "          dataTable['output_type'] = 'display_data';\n",
              "          await google.colab.output.renderOutput(dataTable, element);\n",
              "          const docLink = document.createElement('div');\n",
              "          docLink.innerHTML = docLinkHtml;\n",
              "          element.appendChild(docLink);\n",
              "        }\n",
              "      </script>\n",
              "    </div>\n",
              "  </div>\n"
            ]
          },
          "metadata": {},
          "execution_count": 267
        }
      ]
    },
    {
      "cell_type": "code",
      "source": [],
      "metadata": {
        "id": "ctLZL49hC_N1"
      },
      "execution_count": null,
      "outputs": []
    }
  ]
}